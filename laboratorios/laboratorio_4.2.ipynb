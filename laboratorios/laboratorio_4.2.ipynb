{
 "cells": [
  {
   "cell_type": "markdown",
   "metadata": {},
   "source": [
    "# Laboratorio 4.2 - Integral estocástica y EDEs\n",
    "\n",
    "MA4402 - Simulación Estocástica: Teoría y Laboratorio\n",
    "\n",
    "Profesor: Joaquín Fontobona T.\n",
    "\n",
    "Auxiliares: Pablo Zúñiga Rodríguez-Peña, Arie Wortsman Z., Camilo Carvajal Reyes"
   ]
  },
  {
   "cell_type": "markdown",
   "metadata": {},
   "source": [
    "**Grupo N**\n",
    "\n",
    "**Integrantes:**\n",
    "\n",
    "- Integrante 1\n",
    "- Integrante 2\n",
    "- Integrante 3"
   ]
  },
  {
   "cell_type": "markdown",
   "metadata": {},
   "source": [
    "## Problema 1: Movimiento Browniano\n",
    "\n",
    "> 1 - Programe una función ``BrownianTrajectories`` que recibe como parámetros:\n",
    "> - un vector $x$ de $N$ condiciones iniciales,\n",
    "> - un tiempo final $T>0$,\n",
    "> - un entero $K>0$\n",
    "> \n",
    "> y que simule $N$ copias independientes de un movimiento browniano $(B_t)_{t\\in[0,T]}$ en la grilla $t = (t_0,t_1,\\ldots,t_K)$, con $t_i = iT/K$, partiendo de las condiciones iniciales indicadas en el vector $x$. Debe retornar `[t, B]`, siendo `B` la matriz con todas las trayectorias simuladas."
   ]
  },
  {
   "cell_type": "code",
   "execution_count": null,
   "metadata": {},
   "outputs": [],
   "source": []
  },
  {
   "cell_type": "markdown",
   "metadata": {},
   "source": [
    "> 2 - Utilizando la función creada, genere y grafique $N=50$ trayectorias brownianas partiendo de $x=0$ hasta $T$ muy grande ($T\\geq 10^{10}$, por ejemplo), en una malla temporal suficientemente fina. Agregue los gráficos de las funciones $L$ y $-L$, donde $L(t) := \\sqrt{2t \\log \\log t}$. Observe y comente."
   ]
  },
  {
   "cell_type": "code",
   "execution_count": null,
   "metadata": {},
   "outputs": [],
   "source": []
  },
  {
   "cell_type": "markdown",
   "metadata": {},
   "source": [
    "Fije un $T \\in [1,10]$ a gusto. Definimos el _valor absoluto_ $|B|$ y el _máximo acumulado_ $M$ del browniano, como\n",
    "$$ |B|_t := |B_t| \\quad \\text{y} \\quad S_t := \\max_{s\\leq t} B_t. $$\n",
    "\n",
    ">   3.a - Para $N=3$ brownianos simulados, grafique las trayectorias de $|B|$ y $S$ asociadas, comentando en qué se diferencian.\n",
    ">\n",
    ">   3.b - Para $N$ grande ($N\\geq 10^5$, por ejemplo), grafique histogramas de $|B|_T$ y $S_T$. Observe, compare y comente. Busque en Google o en un libro el resultado matemático correspondiente a lo que ilustran estas simulaciones."
   ]
  },
  {
   "cell_type": "code",
   "execution_count": null,
   "metadata": {},
   "outputs": [],
   "source": []
  },
  {
   "cell_type": "markdown",
   "metadata": {},
   "source": [
    "## Problema 2 - Resolución numérica de ecuaciones diferenciales estocásticas\n",
    "\n",
    "<a id='sde'></a>\n",
    "Consideremos una ecuación diferencial estocástica genérica:\n",
    "$$ dX_t = b(X_t)dt + \\sigma(X_t) dB_t, \\quad X_0 = x_0\\,, \\quad (1)$$\n",
    "donde $(B_t)_{t\\geq 0}$ es un movimiento browniano en $\\mathbb{R}$, $x_0 \\in \\mathbb{R}$ está dado, y $b,\\sigma: \\mathbb{R} \\mapsto \\mathbb{R}$ son funciones conocidas. En esta parte del laboratorio deseamos resolver numéricamente esta ecuación, y evaluar el desempeño de los algoritmos utilizados."
   ]
  },
  {
   "cell_type": "markdown",
   "metadata": {},
   "source": [
    "> 1 - Implemente una función `[t,B,E] = SDEEuler(N,K,T,x0,b,s)` que realice lo siguiente:\n",
    ">- Genere una malla $t$ del intervalo $[0,T]$ usando paso $T/K$.\n",
    ">- Genere $N$ trayectorias brownianas independientes en dicha malla, retornando el resultado en `B`.\n",
    ">- Por cada trayectoria browniana, genere las aproximaciones de la solución de [(1)](#sde) mediante el esquema de Euler, retornando el resultado en `E`. Las variables `x0`, `b` y `s` corresponden a $x_0$, $b$ y $\\sigma$.\n",
    ">\n",
    "> Utilice esta función para explorar la naturaleza de las soluciones en función de los coeficientes $b$ y $\\sigma$: realice pruebas y gráficos para $N=1$ trayectoria y para variados $b$ y $\\sigma$ que usted estime convenientes; por ejemplo, puede fijar $b$ y considerar distintos $\\sigma$ que son múltiplos de una función fija, para ver los efectos del ruido en la ecuación. Deber\\'a  por tanto simular las trayectorias de los diferentes procesos usando la misma realizaci\\'on de un movimiento  Browniano. \n"
   ]
  },
  {
   "cell_type": "code",
   "execution_count": null,
   "metadata": {},
   "outputs": [],
   "source": []
  },
  {
   "cell_type": "markdown",
   "metadata": {},
   "source": [
    "En el caso particular en que $b(x) = bx$ y $\\sigma(x) = \\sigma x$ para ciertas constantes $b,\\sigma$, la ecuación [(1)](#sde) describe un _movimiento browniano geométrico_, y puede resolverse explícitamente:\n",
    "<a id='bgm'></a>\n",
    "$$ X_t = x_0 \\exp\\left( (b-\\frac{\\sigma^2}{2}) t  +  \\sigma B_t \\right)\\,. \\quad (2) $$\n",
    "> 2 - Para parámetros $N$, $K$, $T$, $x_0$, $b$ y $\\sigma$ que usted estime convenientes, obtenga la aproximacione de Euler. Compare gráficamente contra la trayectoria de la solución exacta dada por [(2)](#gBm) utilizando el mismo movimiento Browniano. Comente."
   ]
  },
  {
   "cell_type": "code",
   "execution_count": null,
   "metadata": {},
   "outputs": [],
   "source": []
  },
  {
   "cell_type": "markdown",
   "metadata": {},
   "source": [
    "> 3 - Siguiendo con el caso del movimiento browniano geométrico, en esta parte se desea cuantificar lo observado gráficamente en el punto anterior. Específicamente: si $E_t^{K}$ denota la aproximacion de Euler de paso $T/K$ al tiempo $t$ , queremos estudiar\n",
    "<a id='rate'></a>\n",
    "> $$ \\mathbb{E} |X_T - E_T^K|\\,, \\quad (3) $$\n",
    "> y en particular ver a qué tasa converge a 0 en función de $K$. Se espera que lo anterior sea de orden $K^{-\\alpha}$, para cierto $\\alpha >0$ por determinar experimentalmente. Para esto, fije $T=x_0=b=\\sigma=1$ y un $N$ a conveniencia ($100$ ó $1000$ debería bastar), e implemente una función `TestSDEEuler()` que realice lo siguiente:\n",
    ">- Genere un vector creciente de distintos valores de $K$, desde $K$ relativamente pequeño ($\\sim 10$ ó $\\sim 100$) a un a $K$ grande ($\\sim 10^5$ o más). De preferencia, que sea un vector equiespaciado en escala logarítmica.\n",
    ">- Para cada $K$ generado, obtenga $N$ realizaciones de la aproximacion del esquema de Euler de [(1)](#sde). Utilice estas realizaciones para aproximar la esperanza [(3)](#rate) usando Monte Carlo, donde para cada trayectoria,  $X_T$ se calcula de manera exacta usando la expresión [(2)](#gbm) con la misma realización de  $B_T$ que la del movimiento Browniano discretrizado utilizado en el esquema de Euler. Grafique en función de  $K$. \n",
    ">- Mediante una regresión lineal entre $\\log(K)$ y el logaritmo de las aproximaciones de [(3)](#rate) obtenidas en el punto anterior, obtenga una estimación de las tasa $\\alpha$ del esquema y grafique los resultados de la regresión.\n",
    ">\n",
    "> Comente los resultados obtenidos."
   ]
  },
  {
   "cell_type": "code",
   "execution_count": null,
   "metadata": {},
   "outputs": [],
   "source": []
  },
  {
   "cell_type": "markdown",
   "metadata": {},
   "source": [
    "> 4 - Muestre que $\\mathbb{E}(X_T)= e^{bT}$.  Usando un esquema de Euler y Monte Carlo, calcule ahora $\\mathbb{E}(E_T^K)$ y haga un analisis similar al anterior para el denominado \"error débill\":   $| \\mathbb{E}(X_T) - \\mathbb{E}(E_T^K)|$   (en contraste con el error \"fuerte\"  [(3)](#rate)).  Comente. "
   ]
  },
  {
   "cell_type": "markdown",
   "metadata": {},
   "source": [
    "## 3 - Problema de Dirichlet en $\\mathbb{R}^2$\n",
    "\n",
    "En esta parte estudiaremos el _problema de Dirichlet en_ $\\mathbb{R}^2$:\n",
    "<a id='dirichlet'></a>\n",
    "$$ \\begin{cases}\n",
    "\\Delta u(x) = 0, & x \\in D \\\\\n",
    "u(x) = f(x), & x \\in \\partial D\\,,\n",
    "\\end{cases}\\quad(4)$$\n",
    "donde $D\\subseteq \\mathbb{R}^2$ es un abierto acotado, y $f:\\partial D \\to \\mathbb{R}$ es una función continua. \n",
    "Denotamos por $(B_t)_{t\\geq 0}$  un movimiento Browniano en $\\mathbb{R}^2$, es decir  $(B_t)_{t\\geq 0}= (B^1_t, B^2_t)_{t\\geq 0}$ con $B^1, B^2$ movimientos Brownianos independientes en $\\mathbb{R}$. \n",
    "\n",
    "Se prueba (ver e.g. Karatzas-Shreve , \"Brownian motion and stochastic calculus\")  que la solución de [(4)](#dirichlet) tiene la  representación probabilística \n",
    "<a id='u'></a>\n",
    "$$ u(x) = \\mathbb{E} f(B^x_{\\tau^x}) \\quad \\forall x\\in \\bar{D}\\,,\\quad(5)$$\n",
    "donde $(B^x_t)_{t\\geq 0}$ es un movimiento Browniano en $\\mathbb{R}^2$ partiendo de $x$,  es decir $(B^x_t)_{t\\geq 0} = (B_t+x)_{t\\geq 0}$ , y  $\\tau^x = \\inf\\{t\\geq 0: B^x_t \\notin D\\}$ es el tiempo de parada en que $B^x_t$  sale de $D$. "
   ]
  },
  {
   "cell_type": "markdown",
   "metadata": {},
   "source": [
    "> 1 - Implemente una función que simule $N$ trayectorias Brownianas independientes en $\\mathbb{R}^2$ partiendo de $(0,0)$, en una grilla temporal de paso $h$, durante $K$ pasos. Defina una  función que implemente una grilla espacial fina de $D=[-1,1]^2$ y $D=B((0,0), 1)$, de ancho $\\epsilon>0$. Usando (solo) $N$ trayectorias  Brownianas  independientes partiendo  de $(0,0)$    implemente en base a lo anterior una función que  simule  para cada $x$ en la grilla, $N$  trayectorias Brownianas partiendo de  $x$, durante $K$ pasos  de paso $h$ (MUY IMPORTANTE:  en total solo deben usarse $N$ trayectorias Brownianas, no $N\\times $(número de puntos en la grilla)). "
   ]
  },
  {
   "cell_type": "code",
   "execution_count": null,
   "metadata": {},
   "outputs": [],
   "source": []
  },
  {
   "cell_type": "markdown",
   "metadata": {},
   "source": [
    "> 2 - Programe una función que, dada $N=1$ trayectoria (discretizada)  simulada  $(B^x_{ih})_{i=1}^K$ de movimiento Browniano de $K$ pasos de paso $h$ partiendo de $x$, retorne $B^x_{\\min(\\tau^x,(Kh))}$, es decir,  el punto  en la frontera por el cual el proceso salió  de $D$, o bien su posición en el tiempo $Kh$ si no salió hasta ese momento.  Alternativamente, puede implementar una función, que dada dicha trayectoria, entregue la trayectoria \"detenida\"   $(B^x_{\\min((ih),\\tau^x)})_{i=1}^K$ en el tiempo  $\\tau^x$.   Note que dado que el tiempo es discreto, en el tiempo $\\tau^x$ el proceso se encontrará en realidad fuera de $D$,  por lo que deberá  escoger  como punto de salida  un punto  en $\\partial D$ que interpole entre $B^x_{\\tau}$ y $B^x_{\\tau-h}$. "
   ]
  },
  {
   "cell_type": "code",
   "execution_count": null,
   "metadata": {},
   "outputs": [],
   "source": []
  },
  {
   "cell_type": "markdown",
   "metadata": {},
   "source": [
    "> 3 - Combine lo antes implementado para simular por bloques de $K$ pasos de paso $h$,  $N$ trayectorias Brownianas partiendo de cada punto $x$ de la grilla espacial, hasta que todas las trayectorias hayan salido del $D$, encontrando para cada  trayectoria $(B^x_{ih})_{i\\in \\mathbb{N}}$ el punto $B^x_{\\tau^x} \\in \\partial D$ respectivo.   Haga esto para cada uno de los $2$ dominios $D$ especificados.  Se recomienda agregar para cada trayectoria   $(B^x_{ih})_{i\\in \\mathbb{N}}$ una variable binaria que indique si el proceso ya salió del  dominio, con el fin de optimizar  el uso de la función programada en 2). "
   ]
  },
  {
   "cell_type": "code",
   "execution_count": null,
   "metadata": {},
   "outputs": [],
   "source": []
  },
  {
   "cell_type": "markdown",
   "metadata": {},
   "source": [
    "> 4 - Busque ejemplos de funciones  $f:\\partial D \\to \\mathbb{R}$ para los cuales el problema de Dirichlet  [(5)](#u) tiene solución analítica conocida, en los dos dominios $D=[-1,1]^2$ y $D=B((0,0), 1)$ considerados.  Calcule numéricamente $u(x)$ para cada $x$ en la grilla espacial correspondiente, mediante un método de Monte Carlo  usando $N>10000$ trayectorias de movimientos Brownianos partiendo de $(0,0)$ y lo antes desarrollado.  Haga esto para distintos valores de $h$ y $\\epsilon$, compare  entre si los resultados obtenidos con distintos sets de parámetros, y con la  solución analítica conocida.  Para una elección apropiada de parámetros $N$, $h$ y $\\epsilon$  grafique la solución calculada con la representación probabilista y la solución exacta, en cada uno de los dominios. "
   ]
  },
  {
   "cell_type": "code",
   "execution_count": null,
   "metadata": {},
   "outputs": [],
   "source": []
  }
 ],
 "metadata": {
  "kernelspec": {
   "display_name": "Python 3.9.1 ('cd_env')",
   "language": "python",
   "name": "python3"
  },
  "language_info": {
   "name": "python",
   "version": "3.9.1"
  },
  "orig_nbformat": 4,
  "vscode": {
   "interpreter": {
    "hash": "b6fb38ee5f6e6b7443eda2166d5832448c1bdd835e160a9142cdec5f6c8a3f73"
   }
  }
 },
 "nbformat": 4,
 "nbformat_minor": 2
}
