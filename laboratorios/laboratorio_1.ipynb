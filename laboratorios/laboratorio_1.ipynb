{
 "cells": [
  {
   "cell_type": "markdown",
   "metadata": {},
   "source": [
    "# Laboratorio 1 : Monte Carlo y eficiencia de simulación"
   ]
  },
  {
   "cell_type": "markdown",
   "metadata": {},
   "source": [
    "## Problema 1\n",
    "\n",
    "En _python_ existen distintas librerías que permiten simular variables aleatorias. Entre ellas se destacan las siguientes:\n",
    "\n",
    "- [_Numpy_](https://numpy.org/doc/)\n",
    "\n",
    "- [_Scipy_](https://docs.scipy.org/doc/scipy/)\n",
    "\n",
    "- [_Random_](https://docs.python.org/3/library/random.html)"
   ]
  },
  {
   "cell_type": "markdown",
   "metadata": {},
   "source": [
    "1 - Programe la función ``uniforme``, que reciba un valor entero n y un método (_Numpy_, _Scipy_ o _Random_), y retorne $n$ simulaciones de una variable aleatoria uniforme en $[0, 1]$."
   ]
  },
  {
   "cell_type": "code",
   "execution_count": null,
   "metadata": {},
   "outputs": [],
   "source": []
  },
  {
   "cell_type": "markdown",
   "metadata": {},
   "source": [
    "2 - Genere $10^6$ uniformes para cada librería y grafique en un histograma cada muestra generada, utilizando la librería seaborn."
   ]
  },
  {
   "cell_type": "code",
   "execution_count": null,
   "metadata": {},
   "outputs": [],
   "source": []
  },
  {
   "cell_type": "markdown",
   "metadata": {},
   "source": [
    "3 - Genere $100$ muestras de $1000$ uniformes en $[0,1]$ y utilizando la librería time calcule los tiempos de ejecución que toman generar cada muestra para cada librería. Grafique los tiempos encontrados para cada método y calcule la media y varianza del tiempo de ejecución por muestra de cada método."
   ]
  },
  {
   "cell_type": "code",
   "execution_count": null,
   "metadata": {},
   "outputs": [],
   "source": []
  },
  {
   "cell_type": "markdown",
   "metadata": {},
   "source": [
    "4 - En base a los resultados anteriores. ¿Cual es el mejor método a utilizar? Argumente."
   ]
  },
  {
   "cell_type": "code",
   "execution_count": null,
   "metadata": {},
   "outputs": [],
   "source": []
  },
  {
   "cell_type": "markdown",
   "metadata": {},
   "source": [
    "5 - Genere funciones que permitan obtener una muestra para las siguientes variables a partir de uniformes:\n",
    "\n",
    "- $Bernoulli(p)$\n",
    "\n",
    "- $Binomial(p,N)$\n",
    "\n",
    "- $Geometrica(p)$\n",
    "\n",
    "Utilice estas funciones y la librería _random_ para generar muestras de estas variables. Compare los tiempos de ejecución con los métodos para simular directamente estas variables disponibles en las librerías _numpy_ y _scipy_ (note que $Bernoulli(p)=Binomial(p,1)$)."
   ]
  },
  {
   "cell_type": "code",
   "execution_count": null,
   "metadata": {},
   "outputs": [],
   "source": []
  },
  {
   "cell_type": "markdown",
   "metadata": {},
   "source": [
    "Las librerías anteriores generan números **pseudoaleatorios** que se asemeja bastante a lo que se necesita.\n",
    "\n",
    "6 - Averigüe y explique en qué consisten los métodos para generar números pseudoaleatorios uniformes en $[0,1]$ disponibles en la versión que se usará de Python. Especifique: número de bits, período (de congruencias lineal utilizada o medida equivalente para el método que corresponda), posibilidad y manera de cambiar semilla. Utilizar aproximadamente media plana de desarrollo incluyendo tablas y/o figuras.\n",
    "\n",
    "Respuesta:"
   ]
  },
  {
   "cell_type": "markdown",
   "metadata": {},
   "source": [
    "## Pregunta 2\n",
    "\n",
    "Tomando en cuenta que\n",
    "\n",
    "$$ I = \\frac{\\pi}{4} = \\int^1_0\\sqrt{1-x^2}dx=\\int^1_0\\int^1_0\\mathbf{1}_{\\{x^2+y^2\\leq 1\\}}dxdy \\, ,$$\n",
    "\n",
    "se considerarán dos métodos de Monte Carlo para calcular numéricamente $I$:\n",
    "\n",
    "- Utilizando la variable aleatoria $X=\\sqrt{1-U^2}$, con $U$ v.a. uniforme en $[0,1]$.\n",
    "\n",
    "- Utilizando la variable aleatoria $Z={1}_{\\{x^2+y^2\\leq 1\\}}$, con $U_i$ v.a. uniforme en $[0,1]$ e independientes."
   ]
  },
  {
   "cell_type": "markdown",
   "metadata": {},
   "source": [
    "1 - Calcule las varianzas $Var(X)$ y $Var(Z)$ de forma teórica y de forma simulada con diferentes cantidades de réplicas $n$. Grafique. Estime una cantidad de réplicas necesarias para $X$ y $Z$ con tal de obtener una aproximación de la varianza con un error del orden del $1\\%$."
   ]
  },
  {
   "cell_type": "code",
   "execution_count": null,
   "metadata": {},
   "outputs": [],
   "source": []
  },
  {
   "cell_type": "markdown",
   "metadata": {},
   "source": [
    "2 - Calcule la cantidad de réplicas necesarias para $X$ y $Z$ con tal de aproximar $I$ con un error máximo de $Err_1 = 0,1$ y probabilidad $Pr_1 = 90 \\%$. Haga el mismo ejercicio con $Err_2 = 0,01$ y $Pr_2 = 95 \\%$, $Err_3 = 0,001$ y $Pr_3 = 99 \\%$."
   ]
  },
  {
   "cell_type": "code",
   "execution_count": null,
   "metadata": {},
   "outputs": [],
   "source": []
  },
  {
   "cell_type": "markdown",
   "metadata": {},
   "source": [
    "3 - Aproxime las esperanzas $\\mathbb{E}(X)$ y $\\mathbb{E}(Z)$ de forma simulada con diferentes cantidades de réplicas $n$ hasta\n",
    "llegar al $n^*$ tal que se cumple $Err3$ y $Pr3$.\n",
    "\n",
    "- Grafique las aproximaciones en función de la cantidad de réplicas.\n",
    "\n",
    "- Grafique el tiempo utilizado en aproximar las esperanzas en función de la cantidad de réplicas. \n",
    "\n",
    "- Estime los costos de simular una réplica de $X$ y una réplica de $Z$."
   ]
  },
  {
   "cell_type": "code",
   "execution_count": null,
   "metadata": {},
   "outputs": [],
   "source": []
  },
  {
   "cell_type": "markdown",
   "metadata": {},
   "source": [
    "4 - Considerando $Err3$ y $Pr3$ calcule un intervalo de confianza para $I$ utilizando $X$ y $Z$. Mida el tiempo total utilizado por cada método para obtener dicha precisión y compare los errores de estimación. Compare los costos totales para cada método ¿Cuál método es más eficiente?"
   ]
  },
  {
   "cell_type": "code",
   "execution_count": null,
   "metadata": {},
   "outputs": [],
   "source": []
  },
  {
   "cell_type": "markdown",
   "metadata": {},
   "source": [
    "5 - Considerando $Err3$ y $Pr3$ calcule el costo teórico de estimar $I$ utilizando $X$ y $Z$, tomando como costo la cantidad de variables aleatorias uniformes necesarias ¿Cuál método es mas eficiente bajo este criterio? ¿Qué diferencia se observa entre comparar las eficiencias usando este criterio (número de uniformes) y el criterio anterior (costo total)? ¿Qué indica esa diferencia? ¿Cuál criterio debería preferirse en general?"
   ]
  },
  {
   "cell_type": "code",
   "execution_count": null,
   "metadata": {},
   "outputs": [],
   "source": []
  },
  {
   "cell_type": "markdown",
   "metadata": {},
   "source": [
    "## Problema 3\n"
   ]
  },
  {
   "cell_type": "markdown",
   "metadata": {},
   "source": [
    "1 - Programe el método ``NewtonRaphson``, que recibe como parámetros una función de distribución $F$, su función de densidad $f$ y un vector $u \\in [0, 1]^r$, y aplique el método de Newton-Raphson para calcular el vector $x \\in R^r$ tal que $|F(x_i) − u_i|\\leq error$, donde error es un parámetro de la función inicializado con $error=10^{−4}$."
   ]
  },
  {
   "cell_type": "code",
   "execution_count": null,
   "metadata": {},
   "outputs": [],
   "source": []
  },
  {
   "cell_type": "markdown",
   "metadata": {},
   "source": [
    "Decimos que $X$ es una variable $Beta$ de parámetros $\\theta_1,\\,\\theta_2>0$ si su función de densidad $f_X$ cumple\n",
    "$$ f_X(x) = \\frac{x^{\\theta_1-1}(1-x)^{\\theta_2-1}}{B(\\theta_1,\\theta_2)}\\mathbf{1}_{[0,1]} \\, ,$$\n",
    "\n",
    "donde $B(\\theta_1,\\theta_2) = \\displaystyle\\int^1_0 t^{\\theta_1-1}(1-t)^{\\theta_2-1}dt$.\n",
    "\n",
    "Para esta función puede usar el siguiente método de la libraría _Scipy_."
   ]
  },
  {
   "cell_type": "code",
   "execution_count": null,
   "metadata": {},
   "outputs": [],
   "source": [
    "from scipy.special import beta"
   ]
  },
  {
   "cell_type": "markdown",
   "metadata": {},
   "source": [
    "2 - Grafique en una misma figura la función de densidad para:\n",
    "\n",
    "- $\\theta_1 = 2$, $\\theta_2 = 5$,\n",
    "\n",
    "- $\\theta_1 = 2$, $\\theta_2 = 2$,\n",
    "\n",
    "- $\\theta_1 = 1$, $\\theta_2 = 3$,\n",
    "\n",
    "- $\\theta_1 = 0.5$, $\\theta_2 = 0.5$."
   ]
  },
  {
   "cell_type": "code",
   "execution_count": null,
   "metadata": {},
   "outputs": [],
   "source": []
  },
  {
   "cell_type": "markdown",
   "metadata": {},
   "source": [
    "De ahora en adelante fijamos los parámetros $\\theta_1=2$ y $\\theta_2=5$.\n",
    "\n",
    "3 - Utilice el método ``NewtonRaphson`` para simular $10000$ réplicas de $X\\sim Beta(\\theta_1,\\theta_2)$. Grafique los resultados."
   ]
  },
  {
   "cell_type": "code",
   "execution_count": null,
   "metadata": {},
   "outputs": [],
   "source": []
  },
  {
   "cell_type": "markdown",
   "metadata": {},
   "source": [
    "4 - Programe el método de ``AceptacionRechazo`` que tome una función de densidad $f$ definida en $[0,1]$, una cota apropiada $K$ y dos vectores $u,v\\in[0,1]^r$ y retornen réplicas de de una v.a. $X$ de densidad $f$ usando el método de aceptación rechazo usando v.a. auxiliares de densidad $g\\sim Unif([0,1])$. "
   ]
  },
  {
   "cell_type": "code",
   "execution_count": null,
   "metadata": {},
   "outputs": [],
   "source": []
  },
  {
   "cell_type": "markdown",
   "metadata": {},
   "source": [
    "5 - Encuentre una cota $K$ para la variable $Beta(\\theta_1,\\theta_2)$, con $\\theta_1,\\theta_2$ como en el punto anterior. Implemente el método de aceptación-rechazo con $f_X$ y $K$ para simular réplicas de $Beta(\\theta_1,\\theta_2)$ usando $10000$ uniformes. Grafique los resultados."
   ]
  },
  {
   "cell_type": "code",
   "execution_count": null,
   "metadata": {},
   "outputs": [],
   "source": []
  },
  {
   "cell_type": "markdown",
   "metadata": {},
   "source": [
    "6 - Para $k = 3, \\dots , 5$, simule $n = 10^k$ réplicas de $X$ para cada uno de los métodos implementados. Para cada $k$ grafique los histogramas de las muestras obtenidas.\n",
    "\n",
    "- ¿En que medida coinciden los resultados ambos métodos y por qué?\n",
    "\n",
    "- Grafique el tiempo de ejecución en función de la cantidad de réplicas, estime el costo por réplica de cada uno de los métodos y ordene los métodos según su eficiencia."
   ]
  },
  {
   "cell_type": "code",
   "execution_count": null,
   "metadata": {},
   "outputs": [],
   "source": []
  },
  {
   "cell_type": "markdown",
   "metadata": {},
   "source": [
    "7 - Usando el método más eficiente, simule $n = 100000$ réplicas de $X$, calcule las medias y varianzas muestrales, y luego compare los resultados con los valores teóricos."
   ]
  },
  {
   "cell_type": "code",
   "execution_count": null,
   "metadata": {},
   "outputs": [],
   "source": []
  },
  {
   "cell_type": "markdown",
   "metadata": {},
   "source": [
    "## Problema 4\n",
    "\n",
    "Considere $Y_{\\lambda,t,s}$ variable aleatoria discreta con\n",
    "\n",
    "$$ \\mathbb{P}(Y_{\\lambda,t,s}=k)=\\frac{e^{-\\lambda}\\lambda^k/k!}{\\sum^s_{j=t}e^{-\\lambda}\\lambda^j/j!} \\text{ para }k=t,\\dots,s \\, .$$\n",
    "\n",
    "Para las evaluaciones considere $\\lambda = 5$."
   ]
  },
  {
   "cell_type": "markdown",
   "metadata": {},
   "source": [
    "Analizaremos dos métodos que reciban $t$ y $s$, y simulen $n$ réplicas de $Y_{\\lambda,t,s}$.\n",
    "\n",
    "1 - Implemente el método de aceptacion-rechazo utilizando variables uniformes discretas."
   ]
  },
  {
   "cell_type": "code",
   "execution_count": null,
   "metadata": {},
   "outputs": [],
   "source": []
  },
  {
   "cell_type": "markdown",
   "metadata": {},
   "source": [
    "2 - Implemente el método de simulación condicional de una variable aleatoria apropiada."
   ]
  },
  {
   "cell_type": "code",
   "execution_count": null,
   "metadata": {},
   "outputs": [],
   "source": []
  },
  {
   "cell_type": "markdown",
   "metadata": {},
   "source": [
    "3 - Evalue la eficiencia teórica de ambos métodos."
   ]
  },
  {
   "cell_type": "code",
   "execution_count": null,
   "metadata": {},
   "outputs": [],
   "source": []
  },
  {
   "cell_type": "markdown",
   "metadata": {},
   "source": [
    "4 - Compare la precisión numérica de los dos métodos considerando sus histogramas y las eficiencias numéricas para los siguientes casos:\n",
    "- $t=0$, $s=10$.\n",
    "- $t=10$, $s=20$."
   ]
  },
  {
   "cell_type": "code",
   "execution_count": null,
   "metadata": {},
   "outputs": [],
   "source": []
  }
 ],
 "metadata": {
  "kernelspec": {
   "display_name": "Python 3.9.6 ('simest')",
   "language": "python",
   "name": "python3"
  },
  "language_info": {
   "codemirror_mode": {
    "name": "ipython",
    "version": 3
   },
   "file_extension": ".py",
   "mimetype": "text/x-python",
   "name": "python",
   "nbconvert_exporter": "python",
   "pygments_lexer": "ipython3",
   "version": "3.9.6"
  },
  "vscode": {
   "interpreter": {
    "hash": "42064ca617cfb068adce3bd207e3274f2a938d52bdae7317c50bd6e6db102739"
   }
  }
 },
 "nbformat": 4,
 "nbformat_minor": 2
}
