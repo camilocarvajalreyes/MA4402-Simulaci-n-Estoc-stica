{
 "cells": [
  {
   "cell_type": "markdown",
   "metadata": {},
   "source": [
    "# Laboratorio 3 - Algoritmos estocásticos usando cadenas de Markov\n",
    "\n",
    "MA4402 - Simulación Estocástica: Teoría y Laboratorio\n",
    "\n",
    "Profesor: Joaquín Fontobona T.\n",
    "\n",
    "Auxiliares: Pablo Zúñiga Rodríguez-Peña, Arie Wortsman Z., Camilo Carvajal Reyes"
   ]
  },
  {
   "cell_type": "markdown",
   "metadata": {},
   "source": [
    "**Grupo N**\n",
    "\n",
    "**Integrantes:**\n",
    "\n",
    "- Integrante 1\n",
    "- Integrante 2\n",
    "- Integrante 3"
   ]
  },
  {
   "cell_type": "markdown",
   "metadata": {},
   "source": [
    "## Problema 1: Modelo de Ising en $\\mathbb{Z}^2$\n",
    "\n",
    "Queremos modelar el ferromagnetismo en una placa metálica plana idealizada. Específicamente para $N\\in\\mathbb{N}$ (grande), las moléculas de la placa se ubican en la grilla 2-dimensional $\\Lambda = \\Lambda_N = \\{-N,\\ldots,N\\}^2 \\subseteq \\mathbb{Z}^2$, y cada molécula posee un momento magnético o _spin_, el cual puede estar orientado hacia arriba o hacia abajo. Por lo tanto, el conjunto de posibles configuraciones es $E_N = \\{-1,1\\}^\\Lambda$. Dado $x\\in E_N$, y $m\\in \\Lambda$, denotamos $x(m) \\in \\{-1,1\\}$ el spin del sitio $m$ en la configuración $x$. Trabajaremos en el espacio $E$ de configuraciones con spin fijo hacia arriba en el borde:\n",
    "\n",
    "$$ E = \\{ x\\in E_N : x(m)=1, \\forall m\\in \\partial \\Lambda \\},\n",
    "\\quad \\text{donde} ~\n",
    "\\partial \\Lambda = \\Lambda_N \\setminus \\Lambda_{N-1}.$$\n",
    "\n",
    "En un material ferromagnético, los spins de sitios cercanos tienen tendencia a alinearse; es decir, spins iguales en sitios contiguos tienen asociada menor energía. Específicamente, la energía de una configuración $x\\in E_N$ viene dada por\n",
    "\n",
    "$$ H(x) = \\sum_{m \\sim m'} [ x(m) - x(m')]^2,$$\n",
    "\n",
    "donde $m\\sim m'$ denota que $m$ y $m'$ son vecinos en la grilla, es decir, que están a distancia 1 (cada par $m,m'\\in \\Lambda$ aparece una sola vez en la sumatoria). Supondremos que la probabilidad de que el sistema se encuentre en la configuración $x\\in E$ está dada por\n",
    "\n",
    "$$ \\pi_x = \\frac{e^{-\\beta H(x)}}{Z(\\beta)},$$\n",
    "\n",
    "para $\\beta>0$ dado ($1/\\beta$ es la temperatura), y $Z(\\beta) = \\sum_{y\\in E} e^{-\\beta H(y)}$ es la constante de normalización. Observe que lo anterior hace improbables las configuraciones con mayor energía, lo cual es consecuente con lo que ocurre en los sistemas físicos. Se desea simular realizaciones de la distribución $\\pi \\in \\mathcal{P}(E)$."
   ]
  },
  {
   "cell_type": "markdown",
   "metadata": {},
   "source": [
    "> 1.1 - Calcule $|E|$. Argumente por qué es imposible en la práctica calcular $Z(\\beta)$ explícitamente, incluso para $N$ pequeño (por ejemplo, $N=10$)."
   ]
  },
  {
   "cell_type": "markdown",
   "metadata": {},
   "source": [
    "**Respuesta**:"
   ]
  },
  {
   "cell_type": "markdown",
   "metadata": {},
   "source": [
    "Debido a lo anterior, no es posible simular $\\pi$ directamente. Por este motivo, utilizaremos un algoritmo tipo _Markov chain Monte Carlo_ (MCMC) para realizar simulaciones aproximadas de $\\pi$, según lo descrito en cátedra. Para esto, siga los siguientes pasos.\n",
    "\n",
    "Consideremos el grafo $G$ sobre $E$ en el cual $xy$ es una arista de $G$ si y sólo si $x$ e $y$ difieren en exactamente un sitio, es decir, si y sólo si\n",
    "$$ \\exists m_0 \\in \\Lambda \\setminus \\partial \\Lambda,\n",
    "\t\\text{ tal que }\n",
    "\tx(m_0) = -y(m_0),\n",
    "\t\\text{ y además }\n",
    "\tx(m) = y(m), \\forall m\\neq m_0. $$\n",
    "\n",
    "> 1.2 - Escriba la matriz estocástica $R$ asociada a este grafo para el algoritmo de Metropolis y el de Gibbs. Obtenga una expresión explícita simple para $\\frac{\\pi_y R_{yx}}{\\pi_x R_{xy}}$ en ambos casos ¿Cuál algoritmo es más conveniente usar y por qué?"
   ]
  },
  {
   "cell_type": "markdown",
   "metadata": {},
   "source": [
    "**Respuesta**:"
   ]
  },
  {
   "cell_type": "markdown",
   "metadata": {},
   "source": [
    "> 2 - Describa el algoritmo MCMC correspondiente a este caso usando pseudo-código. En base a él, programe un método $X=$`Ising(N,beta,nf)` que simule $nf$ pasos de la cadena, grafique su estado cada cierta cantidad de pasos (mostrando la grilla $\\Lambda$ y asociando un color al spin $-1$ y otro a $1$), y retorne el estado final $X$, en caso que \\texttt{nf} sea finito. Escoja los spins iniciales independientes con ley $2\\cdot\\text{Bernoulli}(p)-1$, para algún $p\\in(1/2, 1)$ (por ejemplo $p=2/3$ ó $p=3/4$). Haga esto para 2 valores de $p$ distintivos. Comente la diferencia o similitud observadas entre ambos casos y la relevancia de dicha elección. Fije un valor para todo lo que viene."
   ]
  },
  {
   "cell_type": "code",
   "execution_count": null,
   "metadata": {},
   "outputs": [],
   "source": []
  },
  {
   "cell_type": "markdown",
   "metadata": {},
   "source": [
    "En lo que sigue, fije $N \\in \\{50,\\ldots,200\\}$ (lo más grande que se pueda, mientras la simulación sea fluida).\n",
    "\n",
    "> 3 -  Observe el comportamiento de la cadena en el tiempo largo para un $\\beta$ pequeño y otro grande (digamos, escoja un $\\beta<0.1$ y otro $\\beta>5$). Grafique y comente."
   ]
  },
  {
   "cell_type": "code",
   "execution_count": null,
   "metadata": {},
   "outputs": [],
   "source": []
  },
  {
   "cell_type": "markdown",
   "metadata": {},
   "source": [
    "Lo observado en el punto anterior se conoce como _transición de fase_: existe un valor crítico $\\beta_C>0$ tal que para cualquier $\\beta>\\beta_C$ y $N$ grande, $\\pi$ asigna probabilidad casi 1 a configuraciones con spin hacia arriba en la gran mayoría de los sitios (con la condición de borde que usamos), mientras que cuando $\\beta<\\beta_C$ se observa coexistencia de ambos spins. A continuación estudiaremos este fenómeno.\n",
    "\n",
    "> 4.1 - Fije $nf$ grande (en el orden de los millones), de modo que el algoritmo tenga tiempo de acercarse a $\\pi$. Fije una malla del intervalo $[0,1]$ de distintos valores de $\\beta$. Para cada $\\beta$ en la malla, obtenga el estado $X$ de la cadena luego de $nf$ pasos, y calcule el _spin medio_ $s = \\frac{1}{|\\Lambda|} \\sum_{m\\in \\Lambda} X(m)$. Grafique $s$ en función de $\\beta$, y estime visualmente el valor crítico $\\beta_C$."
   ]
  },
  {
   "cell_type": "code",
   "execution_count": null,
   "metadata": {},
   "outputs": [],
   "source": []
  },
  {
   "cell_type": "markdown",
   "metadata": {},
   "source": [
    "> 4.2 - Repita lo anterior en un intervalo más pequeño centrado en su estimación de $\\beta_C$, y con $nf$ más grande aún, de modo de obtener una estimación más fina. Grafique. Averigüe el valor exacto de $\\beta_C$ y compárelo con su estimación."
   ]
  },
  {
   "cell_type": "code",
   "execution_count": null,
   "metadata": {},
   "outputs": [],
   "source": []
  },
  {
   "cell_type": "markdown",
   "metadata": {},
   "source": [
    "## Problema 2 - Problema del vendedor viajero\n",
    "\n",
    "Considere un conjunto $\\{1,2,...,N\\}$ de ciudades en el dominio plano $[0,1]^2$. El problema del vendedor viajero consiste en encontrar un ciclo que recorra todas las ciudades una y solo una vez, partiendo y terminando en la primera, que\n",
    "minimice la distancia recorrida.\n",
    "\n",
    "Sea $E=\\{\\sigma \\in S_{N}:\\sigma (1)=1\\}$ el conjunto de todas las posibles rutas que empiezan en $1$. Es fácil verificar que $|E| =(N-1)!,$ por lo que si consideramos el problema con $15$ ciudades, la cantidad de rutas posibles es 87.178.291.200, por lo cual es claro que es prácticamente imposible recorrer todas las posibilidades. La idea es construir un algoritmo estocástico, denominado _recocido simulado (simulated annealing)_, para minimizar la función de distancia total recorrida\n",
    "\n",
    "$$ w(\\sigma )=\\sum_{i=1}^{N}d(\\sigma (n),\\sigma (n+1)) $$\n",
    "\n",
    "en donde $d:\\{1,...,N\\}^{2}\\rightarrow \\mathbb{R}_{+}$ es la distancia euclidiana usual entre dos ciudades, y se usa la convención $\\sigma(N+1)=1$ para $\\sigma \\in E.$ Definimos el grafo $G$ sobre $E$ dado por la siguiente relación de adyacencia: $\\sigma \\sim \\tau$ si y sólo si $\\tau$ se obtiene permutando exactamente 2 ciuidades de $\\sigma$."
   ]
  },
  {
   "cell_type": "markdown",
   "metadata": {},
   "source": [
    "> 1.1 - Programe una función que genere $N$ ciudades uniformemente distribuidas en $[0,1]^{2},$ y que genere luego la matriz $D=(D_{ij})_{i,j=1}^{N}$ de distancias, donde $D_{ij}$ es la distancia entre\tla ciudad $i$ y la ciudad $j$."
   ]
  },
  {
   "cell_type": "code",
   "execution_count": null,
   "metadata": {},
   "outputs": [],
   "source": []
  },
  {
   "cell_type": "markdown",
   "metadata": {},
   "source": [
    "> 1.2 - Se define $osc_{K}(w)=\\max \\{w(\\tau)-w(\\sigma) : \\sigma \\sim \\tau \\}$. Dé una cota superior para $osc_{K}(w)$ para cada $N$, que no dependa de la posición de las ciudades."
   ]
  },
  {
   "cell_type": "markdown",
   "metadata": {},
   "source": [
    "**Respuesta**:"
   ]
  },
  {
   "cell_type": "markdown",
   "metadata": {},
   "source": [
    "> 2 - Programe una función que dado un camino que recorre las $N$ ciudades, en el orden dado por la permutación $\\sigma$, grafique dicho camino."
   ]
  },
  {
   "cell_type": "code",
   "execution_count": null,
   "metadata": {},
   "outputs": [],
   "source": []
  },
  {
   "cell_type": "markdown",
   "metadata": {},
   "source": [
    "Considere una sucesión de temperaturas inversas $\\beta_n = \\frac{1}{C}\\ln(n+e)$ con $C>(N-1)osc_{K}(w)$ y una cadena de Markov $(X_n)$ no homogénea tal que, en el tiempo $n$, su matriz de transición está dada por la matriz de la cadena $(X_k^{\\beta_n})$, según el método visto en cátedra. Es decir: dado $X_n = \\sigma$, se escoge un vecino $\\tau \\sim \\sigma$ uniformemente al azar, y con probabilidad $e^{-\\beta_n (w(\\tau) - w(\\sigma))} \\wedge 1$ se define $X_{n+1} = \\tau$; si no, se mantiene $X_{n+1} = \\sigma$. Se puede probar que dicha cadena converge en probabilidad a una variable aleatoria distribuida uniformemente en el conjunto de mínimos globales de la función $w$. \n",
    "\n",
    "> 3 - Implemente un método que simule esta cadena para un estado inicial que usted escoja."
   ]
  },
  {
   "cell_type": "code",
   "execution_count": null,
   "metadata": {},
   "outputs": [],
   "source": []
  },
  {
   "cell_type": "markdown",
   "metadata": {},
   "source": [
    "> 4 - Para $N=20$ ciudades fijas, encuentre un mínimo global aproximado de la función $w$. Pruebe con sucesiones $\\beta_n$ de distintas formas, por ejemplo lineal, cuadrática, exponencial, etc. Grafique en cada caso la evolución de la función $w$ evaluada en el estado de la cadena, durante el tiempo de ejecución del algoritmo (el que usted deberá determinar dependiendo de la sucesión $\\beta_n$ escogida). Grafique para algunos tiempos representativos los caminos respectivos."
   ]
  },
  {
   "cell_type": "code",
   "execution_count": null,
   "metadata": {},
   "outputs": [],
   "source": []
  }
 ],
 "metadata": {
  "kernelspec": {
   "display_name": "Python 3.9.6 ('simest')",
   "language": "python",
   "name": "python3"
  },
  "language_info": {
   "codemirror_mode": {
    "name": "ipython",
    "version": 3
   },
   "file_extension": ".py",
   "mimetype": "text/x-python",
   "name": "python",
   "nbconvert_exporter": "python",
   "pygments_lexer": "ipython3",
   "version": "3.9.6"
  },
  "orig_nbformat": 4,
  "vscode": {
   "interpreter": {
    "hash": "42064ca617cfb068adce3bd207e3274f2a938d52bdae7317c50bd6e6db102739"
   }
  }
 },
 "nbformat": 4,
 "nbformat_minor": 2
}
