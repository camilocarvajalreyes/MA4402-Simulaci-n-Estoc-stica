{
 "cells": [
  {
   "cell_type": "markdown",
   "metadata": {},
   "source": [
    "# Pre-laboratorio 1\n",
    "\n"
   ]
  },
  {
   "cell_type": "markdown",
   "metadata": {},
   "source": [
    "> 1 - Programe el método `DiscreteQuantile(f,u)`, que recibe como parámetros una función de masa discreta $f$ y un vector $u\\in [0,1]^{r}$, y retorne el menor vector $n\\in\\mathbb{N}^r$ (coordenada a coordenada) tal que $\\sum_{j=0}^{n_i}f(j)\\geq u_i.$"
   ]
  },
  {
   "cell_type": "code",
   "execution_count": null,
   "metadata": {},
   "outputs": [],
   "source": []
  },
  {
   "cell_type": "markdown",
   "metadata": {},
   "source": [
    "> 2 - Programe el método `DiscreteQuantileF(F,u)`, que recibe como parámetros una función de distribución $F$ y un vector $u\\in [0,1]^{r}$, y retorne el menor vector $n\\in\\mathbb{N}^r$ tal que $\\ F(n_i)\\geq u_i.$"
   ]
  },
  {
   "cell_type": "code",
   "execution_count": null,
   "metadata": {},
   "outputs": [],
   "source": []
  },
  {
   "cell_type": "markdown",
   "metadata": {},
   "source": [
    "> 3 - Programe el método `ContinuousQuantile(F,f,u)`, que recibe como parámetros una función de distribución F, su función de densidad $f$ y un vector $u \\in [0, 1]^r$, y aplique el método de Newton para calcular el vector $x \\in \\mathbb{R}^r$ tal que $|F(x_i) − u_i| \\leq error$, donde $error$ es un parámetro de la clase inicializado con $error=10^{−4}$."
   ]
  },
  {
   "cell_type": "code",
   "execution_count": null,
   "metadata": {},
   "outputs": [],
   "source": []
  },
  {
   "cell_type": "markdown",
   "metadata": {},
   "source": [
    "Considere $X$ una variable aleatoria discreta con\n",
    "\n",
    "$$ \\mathbb{P}(X=j) = \\frac{1}{2}^j, \\, j\\leq 1$$\n",
    "\n",
    "> 4 - Para $k = 1, \\dots , 5$, simule $n = 10^k$ réplicas de X para cada uno de los 3 métodos implementados, usando las mismas $n^k$ variables uniformes para cada uno de ellos (en el caso del método continuo utilice el comando ceil para redondear el resultado) ¿En que medida coinciden los resultados de los tres métodos y por qué?\n",
    "Grafique el tiempo de ejecución en función de la cantidad de réplicas, estime el costo por réplica de cada uno de los métodos y ordene los métodos según su eficiencia."
   ]
  },
  {
   "cell_type": "code",
   "execution_count": null,
   "metadata": {},
   "outputs": [],
   "source": []
  },
  {
   "cell_type": "markdown",
   "metadata": {},
   "source": [
    "> 5 - Usando el método más efciente, para $k = 1, \\dots, 5$ simule $n = 10^k$ réplicas de $X$, calcule las medias y varianzas muestrales, y luego compare los resultados con los valores teóricos."
   ]
  },
  {
   "cell_type": "code",
   "execution_count": null,
   "metadata": {},
   "outputs": [],
   "source": []
  }
 ],
 "metadata": {
  "kernelspec": {
   "display_name": "Python 3 (ipykernel)",
   "language": "python",
   "name": "python3"
  },
  "language_info": {
   "codemirror_mode": {
    "name": "ipython",
    "version": 3
   },
   "file_extension": ".py",
   "mimetype": "text/x-python",
   "name": "python",
   "nbconvert_exporter": "python",
   "pygments_lexer": "ipython3",
   "version": "3.9.6"
  }
 },
 "nbformat": 4,
 "nbformat_minor": 2
}
